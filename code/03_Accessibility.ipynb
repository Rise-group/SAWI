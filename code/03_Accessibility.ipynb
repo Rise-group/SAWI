{
 "cells": [
  {
   "cell_type": "markdown",
   "metadata": {},
   "source": [
    "# Accessibility\n",
    "\n",
    "This notebook calculates the accessibility of a territory based on the OD matrix previusly calculated.\n",
    "\n",
    "Accessibility can be regarded as the ability or ease of reaching opportunities while considering their spatial distribution and the cost of traveling via available transport means. Accessibility can be represented as the absolute or relative number of opportunities that can be reached in a certain threshold. This definition follows the equation:\n",
    "\n",
    "$$\n",
    "A_i = \\sum_{j=0}^n a_j \\cdot f(c_{ij})\n",
    "$$\n",
    "where:\n",
    "- $A_i$ is the accessibility of origin $i$\n",
    "- $a_j$ is the attractiveness of destination $j$\n",
    "- And $f(c_{ij})$ is a function that depends on the travel cost between origin $i$ and destination $j$."
   ]
  },
  {
   "cell_type": "code",
   "execution_count": 17,
   "metadata": {},
   "outputs": [],
   "source": [
    "import pandas as pd\n",
    "import geopandas as gpd\n",
    "\n",
    "import utils.analysis as an"
   ]
  },
  {
   "cell_type": "code",
   "execution_count": null,
   "metadata": {},
   "outputs": [],
   "source": [
    "# Import the names of the territories\n",
    "l_names = pd.read_csv('../data/input/table/mpios_names.txt',header=None)\n",
    "l_names = list(l_names[0])\n",
    "\n",
    "# Types of codes\n",
    "codes_names_list = ['health','sport','education','financial','cultural','parks']\n",
    "\n",
    "# Threshold in minutes\n",
    "threshold = 15"
   ]
  },
  {
   "cell_type": "code",
   "execution_count": null,
   "metadata": {},
   "outputs": [],
   "source": [
    "for m in l_names:\n",
    "    for c in codes_names_list:\n",
    "        OD = pd.read_csv(f'../data/output/table/OD_dfs_/{m}_OD_df_{c}.txt', dtype={'Origin':str,'Destin':str,'ID_block':str})\n",
    "\n",
    "        # Para eliminar\n",
    "        OD = OD[['Origin','Destin','Time']]\n",
    "        OD = OD.rename(columns={'Time':'Weight'})\n",
    "\n",
    "        if len(OD) == 0:\n",
    "            blocks_df = pd.DataFrame(columns=['MANZ_CCNCT','Acc_i','n_people'])\n",
    "            blocks_df = blocks_df[['MANZ_CCNCT','Acc_i','n_people']]\n",
    "            blocks_df.to_csv(f'../data/output/table/accessibility_dfs/contour/accessibility_i_contour_{threshold}min_{m}_{c}.txt',index=False)\n",
    "            \n",
    "            # Import the territory's blocks\n",
    "            blocks = gpd.read_file(f'../data/output/shape/blocks/{m}_blocks.shp')\n",
    "            blocks = blocks[['MANZ_CCNCT','geometry']]\n",
    "            # Import the population to merge with the blocks\n",
    "            DANE_data = pd.read_csv('../data/input/table/DANE_2018_personas_manz.txt',low_memory=False)\n",
    "            pop = DANE_data[['MANZ_CCNCT','poblacion']]\n",
    "            # Merge the population\n",
    "            blocks = blocks.merge(pop,on='MANZ_CCNCT',how='left')\n",
    "            blocks = blocks.fillna(0.0)\n",
    "            blocks = blocks.rename(columns={'poblacion':'n_people'})\n",
    "            blocks['Acc_i'] = 0.0\n",
    "            blocks.to_file(f'../data/output/shape/accessibility/contour/accessibility_i_contour_{threshold}min_{m}_{c}.shp')\n",
    "            continue\n",
    "\n",
    "        acc = an.contour_accessibility(OD, threshold, 'Weight', 'absolute')\n",
    "\n",
    "        # Import the territory's blocks\n",
    "        blocks = gpd.read_file(f'../data/output/shape/blocks/{m}_blocks.shp')\n",
    "        blocks = blocks[['MANZ_CCNCT','geometry']]\n",
    "        # Import the population to merge with the blocks\n",
    "        DANE_data = pd.read_csv('../data/input/table/DANE_2018_personas_manz.txt',low_memory=False)\n",
    "        pop = DANE_data[['MANZ_CCNCT','poblacion']]\n",
    "        # Merge the population\n",
    "        blocks = blocks.merge(pop,on='MANZ_CCNCT',how='left')\n",
    "        blocks = blocks.fillna(0.0)\n",
    "        blocks = blocks.rename(columns={'poblacion':'n_people'})\n",
    "        # Merge the accessibility\n",
    "        blocks = blocks.merge(acc,left_on='MANZ_CCNCT', right_on='Origin').drop(['Origin'],axis=1)\n",
    "        blocks.to_file(f'../data/output/shape/accessibility/contour/accessibility_i_contour_{threshold}min_{m}_{c}.shp')\n",
    "        # Organize the accessibility information to export as a txt\n",
    "        blocks_df = blocks.copy()\n",
    "        blocks_df = blocks_df[['MANZ_CCNCT','Acc_i','n_people']]\n",
    "        blocks_df = blocks_df.rename(columns={'MANZ_CCNCT':'Origin'})\n",
    "        blocks_df.to_csv(f'../data/output/table/accessibility_dfs/contour/accessibility_i_contour_{threshold}min_{m}_{c}.txt',index=False)"
   ]
  }
 ],
 "metadata": {
  "kernelspec": {
   "display_name": "ox_GIZ_2",
   "language": "python",
   "name": "python3"
  },
  "language_info": {
   "codemirror_mode": {
    "name": "ipython",
    "version": 3
   },
   "file_extension": ".py",
   "mimetype": "text/x-python",
   "name": "python",
   "nbconvert_exporter": "python",
   "pygments_lexer": "ipython3",
   "version": "3.11.4"
  }
 },
 "nbformat": 4,
 "nbformat_minor": 2
}
