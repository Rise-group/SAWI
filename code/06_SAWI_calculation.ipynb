{
 "cells": [
  {
   "cell_type": "markdown",
   "metadata": {},
   "source": [
    "# SAWI\n",
    "\n",
    "This notebook estimates the Simultaneous Accessibility Walking Index (SAWI) for every origin of a territory. The SAWI is defined as\n",
    "$$\n",
    "\\text{SAWI}_i = \\sum_{k} N_{ik}*w_k\n",
    "$$\n",
    "where\n",
    "- $N_i$ is the normalized pedestrian accessibility of origin $i$ for opportunity $k$.\n",
    "- $w_k$ is the estimated weight of opportunity $k$.\n",
    "\n",
    "SAWI estimates are conputed for the three weighting methodologies: Equal, PCA and AHP weights."
   ]
  },
  {
   "cell_type": "code",
   "execution_count": null,
   "metadata": {},
   "outputs": [],
   "source": [
    "import pandas as pd\n",
    "import geopandas as gpd"
   ]
  },
  {
   "cell_type": "code",
   "execution_count": null,
   "metadata": {},
   "outputs": [],
   "source": [
    "# Import the names of the territories\n",
    "l_names = pd.read_csv('../data/input/table/mpios_names.txt',header=None)\n",
    "l_names = list(l_names[0])\n",
    "\n",
    "# Types of codes\n",
    "codes_names_list = ['health','sport','education','financial','cultural','parks']\n",
    "\n",
    "# Import the population data\n",
    "DANE_data = pd.read_csv('../data/input/table/DANE_2018_personas_manz.txt',low_memory=False)\n",
    "pop = DANE_data[['MANZ_CCNCT','poblacion']]"
   ]
  },
  {
   "cell_type": "code",
   "execution_count": null,
   "metadata": {},
   "outputs": [],
   "source": [
    "all_blocks = []\n",
    "for m in l_names:\n",
    "    # Import blocks\n",
    "    blocks = gpd.read_file(f'../data/output/shape/blocks/{m}_blocks.shp')\n",
    "    blocks = blocks[['MANZ_CCNCT','geometry']]\n",
    "    blocks['territory'] = m\n",
    "\n",
    "    # Combine the population and the blocks\n",
    "    blocks = blocks.set_index('MANZ_CCNCT').join(pop.set_index('MANZ_CCNCT'))\n",
    "    blocks = blocks.reset_index()\n",
    "    blocks = blocks.rename(columns={'poblacion':'p_(h)'})\n",
    "    # Change the NaN values for 0.0\n",
    "    blocks = blocks.fillna(0.0)\n",
    "\n",
    "    blocks['pp'] = blocks['p_(h)']/blocks['p_(h)'].sum()\n",
    "    # Create a list with the accessibility type names: health, sport, etc.\n",
    "    A_i_names = []\n",
    "    # Create a list with the normalized accessibility type names\n",
    "    N_i_names = []\n",
    "    # Create a loop to agregate each accessibility measure to the blocks\n",
    "    for c in codes_names_list:\n",
    "        # Import the accessibility DataFrame\n",
    "        acc_i_df = pd.read_csv(f'../data/output/table/accessibility_dfs/contour/accessibility_i_contour_15min_{m}_{c}.txt')\n",
    "        # Filter the accessibility DataFrame\n",
    "        acc_i_df = acc_i_df[['MANZ_CCNCT','Acc_i']]\n",
    "        A_i_names.append(f'A_i_{c[:3]}')\n",
    "        N_i_names.append(f'N_i_{c[:3]}')\n",
    "        # Rename the accessibility column with the respective type\n",
    "        acc_i_df = acc_i_df.rename(columns={'Acc_i':f'A_i_{c[:3]}'})\n",
    "        blocks = blocks.merge(acc_i_df,on='MANZ_CCNCT',how='left')\n",
    "        blocks = blocks.fillna(0.0)\n",
    "    # Eliminate blocks with 0 population\n",
    "    blocks_norm = blocks.copy()\n",
    "    blocks_norm = blocks_norm.drop(blocks_norm[blocks_norm['p_(h)']==0].index).reset_index(drop=True)\n",
    "    \n",
    "    # Normalize by territory\n",
    "    for i in range(len(A_i_names)):\n",
    "        blocks_norm[N_i_names[i]] = (blocks_norm[A_i_names[i]]-blocks_norm[A_i_names[i]].min())/(blocks_norm[A_i_names[i]].max()-blocks_norm[A_i_names[i]].min())\n",
    "\n",
    "    blocks_norm = blocks_norm.fillna(0.0)\n",
    "    blocks_norm = blocks_norm.set_index('MANZ_CCNCT')\n",
    "\n",
    "    all_blocks.append(blocks_norm)\n",
    "    \n",
    "all_blocks = pd.concat(all_blocks, ignore_index=False)\n",
    "blocks_norm = all_blocks.copy()"
   ]
  },
  {
   "cell_type": "markdown",
   "metadata": {},
   "source": [
    "## Equal weighting"
   ]
  },
  {
   "cell_type": "code",
   "execution_count": null,
   "metadata": {},
   "outputs": [],
   "source": [
    "EQU_w = pd.DataFrame({i[-3:]:1/len(N_i_names) for i in N_i_names},index=['w']).T\n",
    "blocks_norm['SAWI_EQU'] = blocks_norm[N_i_names]@EQU_w.T.rename(columns={i[-3:]:i for i in N_i_names}).T"
   ]
  },
  {
   "cell_type": "markdown",
   "metadata": {},
   "source": [
    "## PCA weighting"
   ]
  },
  {
   "cell_type": "code",
   "execution_count": null,
   "metadata": {},
   "outputs": [],
   "source": [
    "PCA_w = pd.read_csv('../data/output/table/weights/PCA_weights.txt',index_col=0)\n",
    "blocks_norm['SAWI_PCA'] = blocks_norm[N_i_names]@PCA_w.T.rename(columns={i[-3:]:i for i in N_i_names}).T"
   ]
  },
  {
   "cell_type": "markdown",
   "metadata": {},
   "source": [
    "## AHP weighting"
   ]
  },
  {
   "cell_type": "code",
   "execution_count": null,
   "metadata": {},
   "outputs": [],
   "source": [
    "AHP_w = pd.read_csv('../data/output/table/weights/AHP_weights.txt',index_col=0)\n",
    "blocks_norm['SAWI_AHP'] = blocks_norm[N_i_names]@AHP_w.T.rename(columns={i[-3:]:i for i in N_i_names}).T"
   ]
  },
  {
   "cell_type": "markdown",
   "metadata": {},
   "source": [
    "## Export"
   ]
  },
  {
   "cell_type": "code",
   "execution_count": null,
   "metadata": {},
   "outputs": [],
   "source": [
    "# For all territories\n",
    "blocks_norm.to_file('../data/output/shape/accessibility/indexes/SAWI/SAWI_all_territories_norm.shp')\n",
    "blocks_norm_df = blocks_norm.drop('geometry',axis=1)\n",
    "blocks_norm_df.to_csv('../data/output/table/accessibility_index/indexes/SAWI/SAWI_all_territories_norm.txt')\n",
    "\n",
    "# For a single territory\n",
    "for m in l_names:\n",
    "    blocks_m = blocks_norm[blocks_norm['territory']==m]\n",
    "    blocks_m.to_file(f'../data/output/shape/accessibility/indexes/SAWI/SAWI_{m}_norm.shp')\n",
    "    blocks_m_df = blocks_norm_df[blocks_norm_df['territory']==m]\n",
    "    blocks_m_df.to_csv(f'../data/output/table/accessibility_index/indexes/SAWI/SAWI_{m}_norm.txt')"
   ]
  }
 ],
 "metadata": {
  "kernelspec": {
   "display_name": "ox_GIZ_2",
   "language": "python",
   "name": "python3"
  },
  "language_info": {
   "name": "python",
   "version": "3.12.4"
  }
 },
 "nbformat": 4,
 "nbformat_minor": 2
}
