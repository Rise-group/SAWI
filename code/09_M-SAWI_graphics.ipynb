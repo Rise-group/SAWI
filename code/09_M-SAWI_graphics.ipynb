{
 "cells": [
  {
   "cell_type": "markdown",
   "metadata": {},
   "source": [
    "# M-SAWI graphics\n",
    "\n",
    "This notebook generates the graphic representations of the M-SAWI estimates, as well as determines the best-fitting curve for the data."
   ]
  },
  {
   "cell_type": "code",
   "execution_count": null,
   "metadata": {},
   "outputs": [],
   "source": [
    "import pandas as pd\n",
    "import matplotlib.pyplot as plt\n",
    "import numpy as np\n",
    "from scipy.optimize import curve_fit\n",
    "from sklearn.metrics import r2_score, root_mean_squared_error"
   ]
  },
  {
   "cell_type": "markdown",
   "metadata": {},
   "source": [
    "## Initial graphic"
   ]
  },
  {
   "cell_type": "code",
   "execution_count": null,
   "metadata": {},
   "outputs": [],
   "source": [
    "info = pd.read_csv('../data/output/table/accessibility_index/indexes/M-SAWI/M-SAWI_all_territories_norm.txt')\n",
    "info = info.sort_values('p_(h)',ascending=False)\n",
    "\n",
    "fig, ax = plt.subplots(figsize=(8, 5))\n",
    "x = 'p_(h)'\n",
    "\n",
    "ax.scatter(info[x],info['M-SAWI_EQU'],color='g',label='M-SAWI_EQU',alpha=0.6)\n",
    "ax.scatter(info[x],info['M-SAWI_PCA'],color='r',label='M-SAWI_PCA',alpha=0.6)\n",
    "ax.scatter(info[x],info['M-SAWI_AHP'],color='b',label='M-SAWI_AHP',alpha=0.6)\n",
    "\n",
    "ax.set_xscale('log')\n",
    "ax.set_xlim(1e4,1e7)\n",
    "ax.set_ylim(0,0.5)\n",
    "ax.set_xlabel('log scale Population (hab)',fontsize=14)\n",
    "ax.set_ylabel('M-SAWI',fontsize=14)\n",
    "ax.grid()\n",
    "ax.legend(fontsize=14)\n",
    "ax.tick_params(axis='both', which='major', labelsize=14)\n",
    "plt.tight_layout()\n",
    "plt.savefig('../data/output/image/M-SAWI/M_SAWI_pop.png')"
   ]
  },
  {
   "cell_type": "markdown",
   "metadata": {},
   "source": [
    "## Best-fitting curve"
   ]
  },
  {
   "cell_type": "code",
   "execution_count": null,
   "metadata": {},
   "outputs": [],
   "source": [
    "def func_exp(x, b, c):\n",
    "    return np.exp(-b * x ** c)\n",
    "\n",
    "x_data = np.array(info['p_(h)'])\n",
    "x_data_log = np.array(np.log(info['p_(h)']))\n",
    "# M-SAWI\n",
    "y_data_EQU = np.array(info['M-SAWI_EQU'])\n",
    "y_data_AHP = np.array(info['M-SAWI_AHP'])\n",
    "y_data_PCA = np.array(info['M-SAWI_PCA'])\n",
    "# Fitting\n",
    "popt_exp_EQU, pcov_exp_EQU = curve_fit(func_exp, x_data_log, y_data_EQU)\n",
    "popt_exp_AHP, pcov_exp_AHP = curve_fit(func_exp, x_data_log, y_data_AHP)\n",
    "popt_exp_PCA, pcov_exp_PCA = curve_fit(func_exp, x_data_log, y_data_PCA)\n",
    "# Errors\n",
    "r2_exp_EQU = r2_score(y_data_EQU, func_exp(x_data_log, *popt_exp_EQU))\n",
    "r2_exp_AHP = r2_score(y_data_AHP, func_exp(x_data_log, *popt_exp_AHP))\n",
    "r2_exp_PCA = r2_score(y_data_PCA, func_exp(x_data_log, *popt_exp_PCA))\n",
    "rmse_exp_EQU = root_mean_squared_error(y_data_EQU, func_exp(x_data_log, *popt_exp_EQU))\n",
    "rmse_exp_AHP = root_mean_squared_error(y_data_AHP, func_exp(x_data_log, *popt_exp_AHP))\n",
    "rmse_exp_PCA = root_mean_squared_error(y_data_PCA, func_exp(x_data_log, *popt_exp_PCA))\n",
    "# Plot\n",
    "x_fit = np.linspace(x_data_log.min(), x_data_log.max(), 1000)\n",
    "fig, ax = plt.subplots(figsize=(8, 5))\n",
    "ax.plot(np.exp(x_fit), func_exp(x_fit, *popt_exp_EQU), label='EQU $R^2$=%7.4f, RMSE=%7.4f\\n$b = %7.4f, c = %7.4f$'% (r2_exp_EQU,rmse_exp_EQU,popt_exp_EQU[0],popt_exp_EQU[1]), alpha=0.7, color='g')\n",
    "ax.plot(np.exp(x_fit), func_exp(x_fit, *popt_exp_PCA), label='PCA $R^2$=%7.4f, RMSE=%7.4f\\n$b = %7.4f, c = %7.4f$'% (r2_exp_PCA,rmse_exp_PCA,popt_exp_PCA[0],popt_exp_PCA[1]), alpha=0.7, color='r')\n",
    "ax.plot(np.exp(x_fit), func_exp(x_fit, *popt_exp_AHP), label='AHP $R^2$=%7.4f, RMSE=%7.4f\\n$b = %7.4f, c = %7.4f$'% (r2_exp_AHP,rmse_exp_AHP,popt_exp_AHP[0],popt_exp_AHP[1]), alpha=0.7, color='b')\n",
    "ax.legend(fontsize=14)\n",
    "ax.tick_params(axis='both', which='major', labelsize=14)\n",
    "textstr = '$Y = exp(-b\\cdot X^{c})$'\n",
    "# Text box properties\n",
    "props = dict(boxstyle='round', facecolor='white', alpha=0.5)\n",
    "# Text box position\n",
    "ax.text(0.05, 0.15, textstr, transform=ax.transAxes, fontsize=18,\n",
    "        verticalalignment='top', bbox=props)\n",
    "plt.xlim(1e4,1e7)\n",
    "plt.ylim(0,0.5)\n",
    "plt.grid()\n",
    "plt.xscale('log')\n",
    "plt.xlabel('Population (log scale)',fontsize=14)\n",
    "plt.ylabel('M-SAWI',fontsize=14)\n",
    "plt.tight_layout()\n",
    "plt.savefig('../data/output/image/M-SAWI/M_SAWI_fitting_curves.png')"
   ]
  },
  {
   "cell_type": "code",
   "execution_count": null,
   "metadata": {},
   "outputs": [],
   "source": []
  }
 ],
 "metadata": {
  "kernelspec": {
   "display_name": "ox_GIZ_2",
   "language": "python",
   "name": "python3"
  },
  "language_info": {
   "name": "python",
   "version": "3.11.4"
  }
 },
 "nbformat": 4,
 "nbformat_minor": 2
}
