{
 "cells": [
  {
   "cell_type": "markdown",
   "metadata": {},
   "source": [
    "# SAWI maps\n",
    "\n",
    "This notebook generates the cartographic representation of the SAWI estimates for a territory."
   ]
  },
  {
   "cell_type": "code",
   "execution_count": null,
   "metadata": {},
   "outputs": [],
   "source": [
    "import pandas as pd\n",
    "import geopandas as gpd\n",
    "import matplotlib.pyplot as plt\n",
    "from mapclassify import NaturalBreaks\n",
    "import numpy as np\n",
    "from shapely.geometry.point import Point\n",
    "from matplotlib_scalebar.scalebar import ScaleBar\n",
    "from geo_northarrow import add_north_arrow"
   ]
  },
  {
   "cell_type": "code",
   "execution_count": null,
   "metadata": {},
   "outputs": [],
   "source": [
    "# Import the names of the territories\n",
    "l_names = pd.read_csv('../data/input/table/mpios_names.txt',header=None)\n",
    "l_names = list(l_names[0])\n",
    "\n",
    "# Methods\n",
    "methods = ['EQU','AHP','PCA']"
   ]
  },
  {
   "cell_type": "code",
   "execution_count": null,
   "metadata": {},
   "outputs": [],
   "source": [
    "m = l_names[0]\n",
    "for me in methods:\n",
    "    k = 5\n",
    "    blocks = gpd.read_file(f'../data/output/shape/blocks/{m}_blocks.shp')\n",
    "    SAWI = gpd.read_file(f'../data/output/shape/accessibility/indexes/SAWI/SAWI_{m}_norm.shp')\n",
    "\n",
    "    fig, ax = plt.subplots(figsize=(15, 10))\n",
    "    blocks.plot(ax=ax, color='lightgray')\n",
    "\n",
    "    # Create a column that marks values equal to 0\n",
    "    SAWI[f'SAWI_{me}_cat'] = SAWI[f'SAWI_{me}'].apply(lambda x: 0 if x == 0 else 'not_0')\n",
    "\n",
    "    # Classify non-zero values using natural_breaks\n",
    "    not_0_values = SAWI.loc[SAWI[f'SAWI_{me}'] != 0, f'SAWI_{me}']\n",
    "    classifier = NaturalBreaks(not_0_values, k=k-1)\n",
    "    SAWI.loc[SAWI[f'SAWI_{me}'] != 0, f'SAWI_{me}_cat'] = classifier.yb + 1  # +1 para evitar conflictos con la categoría '0'\n",
    "\n",
    "    # Define the color scheme including the new category\n",
    "    colors = plt.cm.viridis_r(np.linspace(0, 1, k)).tolist()\n",
    "\n",
    "    # If there are no zeros, create a tiny geometry to allow for plotting\n",
    "    if len(not_0_values) == len(SAWI):\n",
    "        last_register_index = len(SAWI)-1\n",
    "        buff_around_first_register = SAWI.to_crs('epsg:32618').iloc[[0]].centroid.buffer(0.01).to_crs('epsg:4326').loc[0]\n",
    "        SAWI.loc[last_register_index+1,f'SAWI_{me}_cat'] = 0\n",
    "        SAWI.loc[last_register_index+1,'geometry'] = buff_around_first_register\n",
    "\n",
    "    # Plot\n",
    "    SAWI.plot(column=f'SAWI_{me}_cat', legend=True, cmap=plt.cm.colors.ListedColormap(colors), ax=ax, \n",
    "                    legend_kwds={'loc': 'lower right', 'title': f'SAWI {me}'})\n",
    "\n",
    "    legend = ax.get_legend()\n",
    "    original_legend_handles = legend.legend_handles\n",
    "    original_legend_labels = ['0.00, 0.00'] + [f'0.00, {classifier.bins[0]:.2f}'] + [f'{classifier.bins[i]:.2f}, {classifier.bins[i+1]:.2f}' for i in range(len(classifier.bins)-1)]\n",
    "\n",
    "    # Adjust the legend to include the new interval\n",
    "    ax.legend(original_legend_handles, original_legend_labels, loc='lower right', title=f'SAWI {me}', title_fontsize='x-large', prop={'size': 'x-large'})\n",
    "    # Scale for epsg:4326\n",
    "    points = gpd.GeoSeries([Point(-73.5, 40.5), Point(-74.5, 40.5)], crs=4326)  # Geographic WGS 84 - degrees\n",
    "    points = points.to_crs(32618)\n",
    "    distance_meters = points[0].distance(points[1])\n",
    "    scale = ScaleBar(dx=distance_meters,location='lower left',font_properties={'size':'x-large'})\n",
    "    ax.add_artist(scale)\n",
    "    # North arrow\n",
    "    add_north_arrow(ax, scale=.4, xlim_pos=.1, ylim_pos=.9, color='#000', text_scaler=3, text_yT=-1.25)\n",
    "    plt.axis('off')\n",
    "    plt.tight_layout()\n",
    "    # plt.show()\n",
    "    plt.savefig(f'../data/output/image/SAWI/{m}_SAWI_{me}.png',dpi=300)\n",
    "    plt.close()"
   ]
  }
 ],
 "metadata": {
  "kernelspec": {
   "display_name": "ox_GIZ_2",
   "language": "python",
   "name": "python3"
  },
  "language_info": {
   "name": "python",
   "version": "3.12.4"
  }
 },
 "nbformat": 4,
 "nbformat_minor": 2
}
