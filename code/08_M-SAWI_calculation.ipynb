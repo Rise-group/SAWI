{
 "cells": [
  {
   "cell_type": "markdown",
   "metadata": {},
   "source": [
    "# M-SAWI\n",
    "\n",
    "This notebook calculates the Metropolitan Simulatenous Accessibility Walking Index (M-SAWI) for a territory. This index is the consolidation of every SAWI value of each origins of the territory. The index is defined as:\n",
    "$$\n",
    "\\text{M-SAWI} = \\sum_i \\text{SAWI}_i*pp_i\n",
    "$$\n",
    "where:\n",
    "- $\\text{SAWI}_i$ denotes the simultaneous accessibility value of origin $i$ within the territory.\n",
    "- $pp_i$ is the population proportion of origin $i$."
   ]
  },
  {
   "cell_type": "code",
   "execution_count": null,
   "metadata": {},
   "outputs": [],
   "source": [
    "import pandas as pd\n",
    "import geopandas as gpd"
   ]
  },
  {
   "cell_type": "code",
   "execution_count": null,
   "metadata": {},
   "outputs": [],
   "source": [
    "# Import the names of the territories\n",
    "l_names = pd.read_csv('../data/input/table/mpios_names.txt',header=None)\n",
    "l_names = list(l_names[0])\n",
    "l_names.remove('bogota-621')"
   ]
  },
  {
   "cell_type": "code",
   "execution_count": null,
   "metadata": {},
   "outputs": [],
   "source": [
    "blocks_norm = gpd.read_file('../data/output/shape/accessibility/indexes/SAWI/SAWI_all_territories_norm.shp')\n",
    "\n",
    "info = pd.DataFrame(index=l_names,columns=['p_(h)','A_(km2)','rho_(h/km2)','n_blocks'])\n",
    "m = l_names[0]\n",
    "for m in l_names:\n",
    "    blocks_m = blocks_norm[blocks_norm['territory']==m]\n",
    "    info.loc[m,'p_(h)'] = blocks_m['p_(h)'].sum()\n",
    "    perimeter = gpd.read_file(f'../data/output/shape/perimeters/{m}_perimeter.shp')\n",
    "    perimeter = perimeter.to_crs('epsg:32618')\n",
    "    perimeter['A'] = perimeter.area/1e6\n",
    "    info.loc[m,'A_(km2)'] = perimeter['A'].sum()\n",
    "    info.loc[m,'rho_(h/km2)'] = info.loc[m,'p_(h)']/info.loc[m,'A_(km2)']\n",
    "    info.loc[m,'n_blocks'] = len(blocks_m)\n",
    "    info.loc[m,'M-SAWI_EQU'] = (blocks_m['SAWI_EQU']*blocks_m['pp']).sum()\n",
    "    info.loc[m,'M-SAWI_PCA'] = (blocks_m['SAWI_PCA']*blocks_m['pp']).sum()\n",
    "    info.loc[m,'M-SAWI_AHP'] = (blocks_m['SAWI_AHP']*blocks_m['pp']).sum()\n",
    "info['p_(h)'] = info['p_(h)'].astype(int)\n",
    "info['A_(km2)'] = info['A_(km2)'].astype(float)\n",
    "info['rho_(h/km2)'] = info['rho_(h/km2)'].astype(float)\n",
    "info['n_blocks'] = info['n_blocks'].astype(int)\n",
    "info = info.reset_index().rename(columns={'index':'territory'})\n",
    "info.to_csv('../data/output/table/accessibility_index/indexes/M-SAWI/M-SAWI_all_territories_norm.txt',index=False)"
   ]
  }
 ],
 "metadata": {
  "kernelspec": {
   "display_name": "ox_GIZ_2",
   "language": "python",
   "name": "python3"
  },
  "language_info": {
   "name": "python",
   "version": "3.11.4"
  }
 },
 "nbformat": 4,
 "nbformat_minor": 2
}
